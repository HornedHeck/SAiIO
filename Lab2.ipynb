{
 "cells": [
  {
   "cell_type": "markdown",
   "metadata": {
    "collapsed": true,
    "pycharm": {
     "name": "#%% md\n"
    }
   },
   "source": [
    "### Метод Гомари\n",
    "\n",
    "c`x -> max\n",
    "Ax = b\n",
    "x >= 0\n",
    "x - целые\n",
    "\n",
    "В базисном > m не0 компонент Значит > m ограничений\n",
    "\n",
    "Задача: построение дополнительных ограничений позволяющих отсечь нецелые решения\n",
    "\n",
    "Выпуклая оболчка - x_b\n",
    "\n",
    "$x_{цел} \\in x_b \\in x$\n",
    "\n",
    "Условия:\n",
    "* отсекать нецелочисленные решения\n",
    "* не отсекать ни одного целочисленного решения\n",
    "* отсечение должно быть посторено так, чтобы являтся конечным по кол-ву задач. Т.е. через некоторое чсило шагов, должен\n",
    "  быть найден ответ\n",
    "\n",
    "Предположим что ограничения совместны и задача ограничена сверху\n",
    "Составление доп задач\n",
    "1. Рассмотрим линейные комбинации уравнения Ax = b:\n",
    "y'Ax=y'b\n",
    "\n",
    "y - произвольный вектор\n",
    "\n",
    "Обозначим: $a_j = y' A_j, \\beta = y'b$\n",
    "\n",
    "Тогда уравнение примет вид: $\\sum_{j=1} a_j x_j = \\beta$\n",
    "\n",
    "Т.к. все компоненты > 0:\n",
    "\n",
    "$\\sum [a_j] x_j <= beta$\n",
    "\n",
    "$\\sum [a_j] x_j <= [beta]$\n",
    "\n",
    "Перепшем в виде равентсва\n",
    "\\Sum [a_j] x_j + x_* = [beta]\n",
    "\n",
    "$f = beta - [beta]$\n",
    "\n",
    "$f_j = a_j - [a_j]$\n",
    "\n",
    "(3) = (1) - (2): $\\sum [-f_j] x_j + x_* = -f$\n",
    "\n",
    " Шаги:\n",
    " 1. Решить задачу симплекс методом - если есть int ответ то задача решена\n",
    " 2. Выбираем базисную нецелочисленную компоненту для постоения ограничений:\n",
    "\n",
    "$x_i^0 $ -> $ y' = e_i^0 A_B^{-1}$\n",
    "\n",
    "  3. Формируем (3), добавления отсекающее ограничение и новую целочисл переменную в задачу\n"
   ]
  },
  {
   "cell_type": "markdown",
   "source": [
    "## Пример\n",
    "\n",
    "$21x_1 + 11x_2 \\rightarrow max$\n",
    "\n",
    "$7x_1 + 4x_2 + x_3 = 13$\n",
    "\n",
    "$x_j >= 0 j \\in [1,3]$\n",
    "\n",
    "\n",
    "Решение задачи:\n",
    "\n",
    "$x_1^0 = \\dfrac{13}{7} , x_2^0 = x_3^0 = 0$\n",
    "$J_b = {1}$\n",
    "\n",
    "Выбор переменной:\n",
    "\n",
    "$i_0 = 1$\n",
    "$ A_b = 7, A_B^{-1} = \\dfrac{1}{7} $\n",
    "$y' = e_{i_0} \\cdot A_B^{-1} = \\dfrac{1}{7}$\n",
    "\n",
    "Итого:\n",
    "\n",
    "$21x_1 + 11_x \\rightarrow max$\n",
    "\n",
    "$7x_1 + 4x_2 + x_3 = 13$\n",
    "\n",
    "$-\\dfrac{4}{7}x_2 - \\dfrac{1}{7}x_3 + x_4 = -\\dfrac{6}{7} $\n",
    "\n",
    "$x_j >= 0 j \\in [1,3]$\n",
    "\n",
    "$x_4 > 0$\n",
    "\n",
    "Итерации повторяются аналогично, до достижения результата:\n",
    "\n",
    "$x_1 = 0, x_2 = 3, x_3 = 1, x_4=1, x_5=0, J_B = {2,3,4}$"
   ],
   "metadata": {
    "collapsed": false
   }
  },
  {
   "cell_type": "code",
   "execution_count": 376,
   "outputs": [],
   "source": [
    "\n",
    "import numpy as nmp\n",
    "from simplex import simplex_min, simplex_max\n",
    "from scipy.optimize import linprog"
   ],
   "metadata": {
    "collapsed": false,
    "pycharm": {
     "name": "#%%\n"
    }
   }
  },
  {
   "cell_type": "code",
   "execution_count": 377,
   "outputs": [],
   "source": [
    "def two_step_simplex_max(a: nmp.ndarray, b: nmp.ndarray, c: nmp.ndarray):\n",
    "    ext_size = a.shape[0]\n",
    "    a_ext = nmp.concatenate((a, nmp.eye(ext_size)), axis=1)\n",
    "    x_ext = nmp.zeros(len(c) + ext_size)\n",
    "    x_ext[-ext_size:] = b\n",
    "    c_ext = nmp.concatenate((c, nmp.zeros(ext_size)))\n",
    "    j_b_ext = nmp.arange(ext_size) + len(c)\n",
    "    return simplex_max(a_ext, c_ext, x_ext, j_b_ext)\n",
    "\n",
    "\n",
    "def fractional(f: float) -> float:\n",
    "    if f < 0:\n",
    "        return f - int(f) + 1.\n",
    "    else:\n",
    "        return f - int(f)\n",
    "\n",
    "\n",
    "def get_basis(x: nmp.ndarray, size: int) -> nmp.ndarray:\n",
    "    b = nmp.array(nmp.nonzero(x))[0]\n",
    "    if len(b) > size:\n",
    "        b = b[:size]\n",
    "    elif len(b) < size:\n",
    "        b = nmp.concatenate((\n",
    "            b,\n",
    "            nmp.setdiff1d(nmp.arange(len(x)), b)[:size - len(b)]\n",
    "        ))\n",
    "    return b"
   ],
   "metadata": {
    "collapsed": false,
    "pycharm": {
     "name": "#%%\n"
    }
   }
  },
  {
   "cell_type": "code",
   "execution_count": 378,
   "outputs": [],
   "source": [
    "# define test task\n",
    "\n",
    "o_a = nmp.array([\n",
    "    [10, 30],\n",
    "    [25, 25],\n",
    "    [41, 90],\n",
    "    [90, 50],\n",
    "])\n",
    "o_b = nmp.array([4500, 6250, 14100, 18000])\n",
    "\n",
    "o_c = nmp.array([100, 250])\n",
    "o_x = nmp.array([0, 0])\n",
    "\n",
    "# to canonical form\n",
    "\n",
    "c_count = o_a.shape[0]\n",
    "t_a = nmp.concatenate((o_a, nmp.eye(c_count)), 1)\n",
    "t_c = -nmp.concatenate((o_c, nmp.zeros(c_count)))\n",
    "t_b = o_b\n",
    "t_x = nmp.concatenate((o_x, o_b))"
   ],
   "metadata": {
    "collapsed": false,
    "pycharm": {
     "name": "#%%\n"
    }
   }
  },
  {
   "cell_type": "code",
   "execution_count": 379,
   "outputs": [],
   "source": [
    "#define ex4:\n",
    "# t_a = nmp.array([\n",
    "#     [3, 4, 1, 0],\n",
    "#     [2, 5, 0, 1],\n",
    "# ])\n",
    "# o_c = [2, 3]\n",
    "# t_c = -nmp.array([2, 3, 0, 0])\n",
    "# t_b = nmp.array([24, 22])\n",
    "# t_x = nmp.array([0, 0, 24, 22])"
   ],
   "metadata": {
    "collapsed": false,
    "pycharm": {
     "name": "#%%\n"
    }
   }
  },
  {
   "cell_type": "code",
   "execution_count": 380,
   "outputs": [],
   "source": [
    "\n",
    "#define ex2:\n",
    "# t_a = nmp.array([\n",
    "#     [-1, 3, 1, 0],\n",
    "#     [7, 1, 0, 1],\n",
    "# ])\n",
    "# o_c = [7 , 9]\n",
    "# t_c = -nmp.array([7, 9, 0, 0])\n",
    "# t_b = nmp.array([6 , 35])\n",
    "# t_x = nmp.array([0 , 0 , 6 , 35])"
   ],
   "metadata": {
    "collapsed": false,
    "pycharm": {
     "name": "#%%\n"
    }
   }
  },
  {
   "cell_type": "code",
   "execution_count": 381,
   "outputs": [],
   "source": [
    "def get_eq(a: nmp.ndarray, x: nmp.ndarray, j_b: nmp.ndarray) -> tuple[nmp.ndarray, float]:\n",
    "    k = nmp.argmax([round(fractional(f), 4) for f in x[j_b]])\n",
    "    j_n = nmp.setdiff1d(nmp.arange(len(x)), j_b)\n",
    "    l = nmp.linalg.inv(a[:, j_b]).dot(a[:, j_n])[k]\n",
    "    eq = nmp.zeros(len(x) + 1)\n",
    "    eq[-1] = -1\n",
    "    for i, v in zip(j_n, l):\n",
    "        eq[i] = fractional(v)\n",
    "    eq = -eq\n",
    "    nb = -fractional(x[j_b[k]])\n",
    "    print(j_b[k])\n",
    "    print(eq, nb)\n",
    "    return eq, nb"
   ],
   "metadata": {
    "collapsed": false,
    "pycharm": {
     "name": "#%%\n"
    }
   }
  },
  {
   "cell_type": "code",
   "execution_count": 382,
   "outputs": [],
   "source": [
    "# new_eq, new_b = get_eq(c_a, rx, rjb)\n",
    "# t_b = nmp.append(o_b, [new_b])\n",
    "# t_a = nmp.concatenate((c_a, nmp.zeros((c_a.shape[0], 1))), 1)\n",
    "# t_a = nmp.concatenate((t_a, [new_eq]))\n",
    "# t_c = nmp.concatenate((c_c, [0]))"
   ],
   "metadata": {
    "collapsed": false,
    "pycharm": {
     "name": "#%%\n"
    }
   }
  },
  {
   "cell_type": "code",
   "execution_count": 383,
   "outputs": [
    {
     "name": "stdout",
     "output_type": "stream",
     "text": [
      "[4.5 3.5 0.  0. ] [0 1]\n",
      "0\n",
      "[-0.         -0.         -0.95454545 -0.13636364  1.        ] -0.5\n",
      "[4.52380952 3.33333333 0.52380952 0.         0.        ] [0 1 2]\n",
      "0\n",
      "[-0.         -0.         -0.         -0.14285714 -0.95238095  1.        ] -0.5238095238095237\n",
      "[4.55 3.15 1.1  0.   0.55 0.  ] [0 1 2 4]\n",
      "0\n",
      "[-0.   -0.   -0.   -0.15 -0.   -0.95  1.  ] -0.5499999999999998\n",
      "[4.57894737 2.94736842 1.73684211 0.         1.15789474 0.57894737\n",
      " 0.        ] [0 1 2 4 5]\n",
      "1\n",
      "[-0.         -0.         -0.         -0.89473684 -0.         -0.\n",
      " -0.36842105  1.        ] -0.9473684210526319\n",
      "[4.41176471 3.05882353 1.23529412 1.05882353 0.82352941 0.41176471\n",
      " 0.         0.        ] [0 1 2 3 4 5]\n",
      "4\n",
      "[-0.         -0.         -0.         -0.         -0.         -0.\n",
      " -0.76470588 -0.35294118  1.        ] -0.8235294117647055\n",
      "[4.00000000e+00 3.33333333e+00 4.44089210e-16 3.66666667e+00\n",
      " 0.00000000e+00 0.00000000e+00 0.00000000e+00 2.33333333e+00\n",
      " 0.00000000e+00] [0 1 2 3 7 4 5]\n",
      "0\n",
      "[-0.  -0.  -0.  -0.  -0.  -0.  -0.5 -0.  -0.5  1. ] -0.9999999999999991\n",
      "[3.75 3.25 0.   5.5  0.25 0.5  0.75 4.25 1.25 0.  ] [0 1 3 4 5 6 7 8]\n",
      "0\n",
      "[-0.   -0.   -0.75 -0.   -0.   -0.   -0.   -0.   -0.   -0.25  1.  ] -0.7499999999999991\n",
      "[4. 3. 1. 4. 1. 1. 1. 3. 1. 0. 0.] [0 1 2 3 4 5 6 7 8]\n",
      "Результат получен: [4. 3.]\n"
     ]
    }
   ],
   "source": [
    "start_count = len(o_c)\n",
    "\n",
    "while True:\n",
    "\n",
    "    rx = linprog(t_c, None, None, t_a, t_b, method='revised simplex').x\n",
    "    rjb = get_basis(rx, t_a.shape[0])\n",
    "    print(rx, rjb)\n",
    "    if all([round(f, 4).is_integer() for f in rx[:start_count]]):\n",
    "        print(f'Результат получен: {rx[:start_count]}')\n",
    "        break\n",
    "\n",
    "    new_eq, new_b = get_eq(t_a, rx, rjb)\n",
    "    t_c = nmp.concatenate((t_c, [0]))\n",
    "    t_b = nmp.append(t_b, [new_b])\n",
    "    t_a = nmp.concatenate((t_a, nmp.zeros((t_a.shape[0], 1))), 1)\n",
    "    t_a = nmp.concatenate((t_a, [new_eq]))\n",
    "\n"
   ],
   "metadata": {
    "collapsed": false,
    "pycharm": {
     "name": "#%%\n"
    }
   }
  },
  {
   "cell_type": "code",
   "execution_count": 384,
   "outputs": [],
   "source": [
    "# ex1:"
   ],
   "metadata": {
    "collapsed": false,
    "pycharm": {
     "name": "#%%\n"
    }
   }
  }
 ],
 "metadata": {
  "kernelspec": {
   "display_name": "Python 3",
   "language": "python",
   "name": "python3"
  },
  "language_info": {
   "codemirror_mode": {
    "name": "ipython",
    "version": 2
   },
   "file_extension": ".py",
   "mimetype": "text/x-python",
   "name": "python",
   "nbconvert_exporter": "python",
   "pygments_lexer": "ipython2",
   "version": "2.7.6"
  }
 },
 "nbformat": 4,
 "nbformat_minor": 0
}