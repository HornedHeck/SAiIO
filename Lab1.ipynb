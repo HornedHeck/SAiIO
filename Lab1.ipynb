{
 "cells": [
  {
   "cell_type": "code",
   "execution_count": 1,
   "outputs": [],
   "source": [
    "import numpy as nmp\n",
    "from scipy.optimize import OptimizeResult, linprog\n",
    "from dataclasses import dataclass"
   ],
   "metadata": {
    "collapsed": false,
    "pycharm": {
     "name": "#%%\n"
    }
   }
  },
  {
   "cell_type": "code",
   "execution_count": 4,
   "outputs": [
    {
     "name": "stdout",
     "output_type": "stream",
     "text": [
      "0\n",
      "Group(lb=array([0., 0.]), ub=array([4, None], dtype=object), fun=-6.727272727272727, x=array([4.        , 2.72727273]))\n",
      "Group(lb=array([5., 0.]), ub=array([None, None], dtype=object), fun=inf, x=array([], dtype=float64))\n",
      "1\n",
      "Group(lb=array([0., 0.]), ub=array([4, 2], dtype=object), fun=-5.75, x=array([3.75, 2.  ]))\n",
      "Group(lb=array([0., 3.]), ub=array([4, None], dtype=object), fun=-5.5, x=array([2.5, 3. ]))\n",
      "0\n",
      "Group(lb=array([0., 0.]), ub=array([3, 2], dtype=object), fun=-5.0, x=array([3., 2.]))\n",
      "Group(lb=array([4., 0.]), ub=array([4, 2], dtype=object), fun=inf, x=array([], dtype=float64))\n"
     ]
    },
    {
     "data": {
      "text/plain": "array([3., 2.])"
     },
     "execution_count": 4,
     "metadata": {},
     "output_type": "execute_result"
    }
   ],
   "source": [
    "@dataclass\n",
    "class Group:\n",
    "    lb: nmp.ndarray\n",
    "    ub: nmp.ndarray\n",
    "    fun: float\n",
    "    x: nmp.ndarray\n",
    "\n",
    "    def bounds(self):\n",
    "        return tuple(zip(self.lb, self.ub))\n",
    "\n",
    "    def with_new_bounds(self, i, lb=None, ub=None):\n",
    "        nlb = self.lb.copy()\n",
    "        if lb is not None:\n",
    "            nlb[i] = lb\n",
    "        nub = self.ub.copy()\n",
    "        if ub is not None:\n",
    "            nub[i] = ub\n",
    "        return Group(\n",
    "            nlb,\n",
    "            nub,\n",
    "            self.fun,\n",
    "            self.x\n",
    "        )\n",
    "\n",
    "    @classmethod\n",
    "    def empty(cls, n, fun, x):\n",
    "        return Group(\n",
    "            nmp.zeros(n),\n",
    "            nmp.array([None for i in range(n)]),\n",
    "            fun,\n",
    "            x\n",
    "        )\n",
    "\n",
    "\n",
    "def bounds(c, a, b):\n",
    "    def calc_value(group: Group) -> tuple[float, nmp.ndarray]:\n",
    "        res = linprog(\n",
    "            c=c,\n",
    "            A_ub=a,\n",
    "            b_ub=b,\n",
    "            method='simplex',\n",
    "            bounds=group.bounds()\n",
    "        )\n",
    "\n",
    "        if res.success:\n",
    "            return res.fun, res.x\n",
    "        else:\n",
    "            return float('inf'), nmp.array([])\n",
    "\n",
    "    g_0: OptimizeResult = linprog(\n",
    "        c=c,\n",
    "        A_ub=a,\n",
    "        b_ub=b,\n",
    "        method='simplex'\n",
    "    )\n",
    "    g_0: Group = Group.empty(len(c), g_0.fun, g_0.x)\n",
    "    i = 0\n",
    "    while (True):\n",
    "        i = nmp.argmax([not f.is_integer() for f in g_0.x])\n",
    "\n",
    "        if i == -1:\n",
    "            print('Can\\'t find non-int x. Exiting.')\n",
    "            return None\n",
    "\n",
    "        ub = int(g_0.x[i])\n",
    "        print(i)\n",
    "        lb = ub + 1\n",
    "        gn_1 = g_0.with_new_bounds(i, ub=ub)\n",
    "        gn_1.fun, gn_1.x = calc_value(gn_1)\n",
    "        print(gn_1)\n",
    "        gn_2 = g_0.with_new_bounds(i, lb=lb)\n",
    "        gn_2.fun, gn_2.x = calc_value(gn_2)\n",
    "        print(gn_2)\n",
    "        if gn_1.fun < gn_2.fun:\n",
    "            if all([f.is_integer() for f in gn_1.x]):\n",
    "                return gn_1.x\n",
    "\n",
    "            g_0 = gn_1\n",
    "        else:\n",
    "            if all([f.is_integer() for f in gn_2.x]):\n",
    "                return gn_2.x\n",
    "\n",
    "            g_0 = gn_2\n",
    "        i += 1\n",
    "\n",
    "\n",
    "bounds(\n",
    "    nmp.array([-1, -1]),\n",
    "    nmp.array([\n",
    "        [2, 11],\n",
    "        [1, 1],\n",
    "        [4, -5]\n",
    "    ]),\n",
    "    nmp.array([38, 7, 5])\n",
    ")"
   ],
   "metadata": {
    "collapsed": false,
    "pycharm": {
     "name": "#%%\n"
    }
   }
  }
 ],
 "metadata": {
  "kernelspec": {
   "display_name": "Python 3",
   "language": "python",
   "name": "python3"
  },
  "language_info": {
   "codemirror_mode": {
    "name": "ipython",
    "version": 2
   },
   "file_extension": ".py",
   "mimetype": "text/x-python",
   "name": "python",
   "nbconvert_exporter": "python",
   "pygments_lexer": "ipython2",
   "version": "2.7.6"
  }
 },
 "nbformat": 4,
 "nbformat_minor": 0
}