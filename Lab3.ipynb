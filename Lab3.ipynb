{
 "cells": [
  {
   "cell_type": "markdown",
   "source": [
    "$ \\sum f_i(i_i) -> max  $"
   ],
   "metadata": {
    "collapsed": false,
    "pycharm": {
     "name": "#%% md\n"
    }
   }
  },
  {
   "cell_type": "code",
   "execution_count": 4,
   "outputs": [
    {
     "name": "stdout",
     "output_type": "stream",
     "text": [
      "Intermediate result for F(1,30)=(28, [30])\n",
      "Intermediate result for F(1,20)=(18, [20])\n",
      "Intermediate result for F(1,10)=(8, [10])\n",
      "Intermediate result for F(1,0)=(0, [0])\n",
      "Intermediate result for F(2,30)=(28, array([ 0, 30]))\n",
      "Load result for F(1,20)=(18, [20])\n",
      "Load result for F(1,10)=(8, [10])\n",
      "Load result for F(1,0)=(0, [0])\n",
      "Intermediate result for F(2,20)=(18, array([ 0, 20]))\n",
      "Load result for F(1,10)=(8, [10])\n",
      "Load result for F(1,0)=(0, [0])\n",
      "Intermediate result for F(2,10)=(8, array([ 0, 10]))\n",
      "Load result for F(1,0)=(0, [0])\n",
      "Intermediate result for F(2,0)=(0, array([0, 0]))\n",
      "Intermediate result for F(3,30)=(28, array([ 0,  0, 30]))\n",
      "(28, array([ 0,  0, 30]))\n"
     ]
    }
   ],
   "source": [
    "import numpy as nmp\n",
    "\n",
    "\n",
    "def invest_task(weights: nmp.ndarray, amounts: nmp.array, total_amount: int):\n",
    "    saved_res = dict()\n",
    "\n",
    "    def invest_task_internal(left_count: int, left_amount: int):\n",
    "        if (left_count, left_amount) in saved_res.keys():\n",
    "            res = saved_res[(left_count, left_amount)]\n",
    "            print(f\"Load result for F({left_count},{left_amount})={res}\")\n",
    "            return res\n",
    "        elif left_count == 1:\n",
    "            i_a = nmp.argmax(amounts == left_amount)\n",
    "            res = weights[i_a, -left_count], [left_amount]\n",
    "            saved_res[(left_count, left_amount)] = res\n",
    "            print(f\"Intermediate result for F({left_count},{left_amount})={res}\")\n",
    "            return res\n",
    "        else:\n",
    "            available_amounts = amounts[amounts <= left_amount]\n",
    "            available_weights = weights[:available_amounts.shape[0], -left_count]\n",
    "            other_invests = nmp.array(\n",
    "                [invest_task_internal(left_count - 1, left_amount - a) for a in available_amounts], dtype=object)\n",
    "            f = available_weights + other_invests[:, 0]\n",
    "            i = nmp.argmax(f)\n",
    "            res = f[i], nmp.append([available_amounts[i]], other_invests[i, 1])\n",
    "            saved_res[(left_count, left_amount)] = res\n",
    "            print(f\"Intermediate result for F({left_count},{left_amount})={res}\")\n",
    "            return res\n",
    "\n",
    "    return invest_task_internal(weights.shape[1], total_amount)\n",
    "\n",
    "\n",
    "\n",
    "w_0 = nmp.array([\n",
    "    [0, 0, 0],\n",
    "    [6, 7, 8],\n",
    "    [16, 17, 18],\n",
    "    [26, 27, 28]\n",
    "])\n",
    "a_0 = nmp.array([0, 10, 20, 30])\n",
    "\n",
    "print(invest_task(w_0, a_0, 30))\n",
    "\n"
   ],
   "metadata": {
    "collapsed": false,
    "pycharm": {
     "name": "#%%\n"
    }
   }
  }
 ],
 "metadata": {
  "kernelspec": {
   "display_name": "Python 3",
   "language": "python",
   "name": "python3"
  },
  "language_info": {
   "codemirror_mode": {
    "name": "ipython",
    "version": 2
   },
   "file_extension": ".py",
   "mimetype": "text/x-python",
   "name": "python",
   "nbconvert_exporter": "python",
   "pygments_lexer": "ipython2",
   "version": "2.7.6"
  }
 },
 "nbformat": 4,
 "nbformat_minor": 0
}