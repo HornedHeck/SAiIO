{
 "cells": [
  {
   "cell_type": "markdown",
   "source": [
    "$ \\sum f_i(i_i) -> max  $"
   ],
   "metadata": {
    "collapsed": false,
    "pycharm": {
     "name": "#%% md\n"
    }
   }
  },
  {
   "cell_type": "code",
   "execution_count": 9,
   "outputs": [
    {
     "name": "stdout",
     "output_type": "stream",
     "text": [
      "28\n"
     ]
    }
   ],
   "source": [
    "import numpy as nmp\n",
    "\n",
    "\n",
    "def invest_task(weights: nmp.ndarray, amounts: nmp.array, total_amount: int):\n",
    "    def invest_task_internal(left_count: int, left_amount: int):\n",
    "        if left_count == 1:\n",
    "            i_a = nmp.argmax(amounts == left_amount)\n",
    "            return weights[i_a , -left_count]\n",
    "        else:\n",
    "            available_amounts = amounts[amounts <= left_amount]\n",
    "            available_weights = weights[:available_amounts.shape[0] , -left_count]\n",
    "            f = [w + invest_task_internal(left_count - 1, left_amount - a) for a, w in\n",
    "                 zip(available_amounts, available_weights)]\n",
    "            i = nmp.argmax(f)\n",
    "            return f[i]\n",
    "\n",
    "    return invest_task_internal(weights.shape[1], total_amount)\n",
    "\n",
    "\n",
    "w_0 = nmp.array([\n",
    "    [0, 0, 0],\n",
    "    [6, 7, 8],\n",
    "    [16, 17, 18],\n",
    "    [26, 27, 28]\n",
    "])\n",
    "a_0 = nmp.array([0, 10, 20, 30])\n",
    "\n",
    "print(invest_task(w_0, a_0, 30))\n",
    "\n"
   ],
   "metadata": {
    "collapsed": false,
    "pycharm": {
     "name": "#%%\n"
    }
   }
  }
 ],
 "metadata": {
  "kernelspec": {
   "display_name": "Python 3",
   "language": "python",
   "name": "python3"
  },
  "language_info": {
   "codemirror_mode": {
    "name": "ipython",
    "version": 2
   },
   "file_extension": ".py",
   "mimetype": "text/x-python",
   "name": "python",
   "nbconvert_exporter": "python",
   "pygments_lexer": "ipython2",
   "version": "2.7.6"
  }
 },
 "nbformat": 4,
 "nbformat_minor": 0
}